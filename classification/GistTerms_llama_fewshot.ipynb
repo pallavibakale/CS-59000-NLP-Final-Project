{
  "nbformat": 4,
  "nbformat_minor": 0,
  "metadata": {
    "colab": {
      "provenance": []
    },
    "kernelspec": {
      "name": "python3",
      "display_name": "Python 3"
    },
    "language_info": {
      "name": "python"
    }
  },
  "cells": [
    {
      "cell_type": "code",
      "source": [
        "from huggingface_hub import InferenceClient\n",
        "\n",
        "# Initialize the HuggingFace Inference Client\n",
        "client = InferenceClient(api_key=\"Key_Hidden_For_Privacy\")"
      ],
      "metadata": {
        "id": "LMfX0J1fkDLF"
      },
      "execution_count": 10,
      "outputs": []
    },
    {
      "cell_type": "code",
      "source": [
        "# Define the clause review function\n",
        "def review_clause(clause_text):\n",
        "    # Combine the system prompt with the user-provided input clause\n",
        "    prompt = system_prompt + f\"\\n\\nClause to analyze:\\nInput: {{\\\"text\\\": \\\"{clause_text}\\\"}}\\nOutput:\"\n",
        "\n",
        "    # Stream response from the model\n",
        "    response = client.text_generation(\n",
        "        model=\"meta-llama/Meta-Llama-3-8B-Instruct\",\n",
        "        prompt=prompt,\n",
        "        max_new_tokens=400,\n",
        "    )\n",
        "\n",
        "    # Print the output directly\n",
        "    print(response)"
      ],
      "metadata": {
        "id": "a-HFzLQ5k7Q5"
      },
      "execution_count": 17,
      "outputs": []
    },
    {
      "cell_type": "code",
      "source": [
        "# Define few-shot examples\n",
        "few_shot_examples = [\n",
        "    {\n",
        "        \"input\": {\"text\": \"Facebook uses cookies and receives information when you visit those sites and apps, including device information and information about your activity, without any further action from you. This occurs whether or not you have a Facebook account or are logged in.\"},\n",
        "        \"output\": {\"label\": \"Risky\"}\n",
        "    },\n",
        "    {\n",
        "        \"input\": {\"text\": \"We require each of these partners to have lawful rights to collect, use and share your data before providing any data to us.\"},\n",
        "        \"output\": {\"label\": \"Safe\"}\n",
        "    },\n",
        "    {\n",
        "        \"input\": {\"text\": \"Certain parts of the Facebook Products may not work properly if you have disabled browser cookie use. Please be aware these controls are distinct from the controls that Facebook offers you.\"},\n",
        "        \"output\": {\"label\": \"Information\"}\n",
        "    }\n",
        "]"
      ],
      "metadata": {
        "id": "Z1LBhXAPkyvX"
      },
      "execution_count": 12,
      "outputs": []
    },
    {
      "cell_type": "code",
      "source": [
        "# Define the system prompt\n",
        "system_prompt = (\n",
        "    \"You are a Terms and Conditions reviewer specializing in identifying and classifying clauses based on user impact. \"\n",
        "    \"Analyze the given text and classify it as one of the following:\\n\"\n",
        "    \"- **Risky**: The clause presents a potential risk or issue to the user.\\n\"\n",
        "    \"- **Safe**: The clause ensures user safety or protects user rights.\\n\"\n",
        "    \"- **Information**: The clause provides general or neutral information.\\n\\n\"\n",
        "    \"Examples:\\n\" +\n",
        "    \"\\n\".join(\n",
        "        f\"Example {i+1}:\\nInput: {ex['input']['text']}\\nOutput: {ex['output']['label']}\\n\"\n",
        "        for i, ex in enumerate(few_shot_examples)\n",
        "    ) +\n",
        "    \"\\nAnalyze the provided clause text and classify it accordingly. Output the classification in JSON format.\"\n",
        ")"
      ],
      "metadata": {
        "id": "qPmlJveJk17F"
      },
      "execution_count": 13,
      "outputs": []
    },
    {
      "cell_type": "code",
      "source": [
        "# Test the function with a sample clause\n",
        "sample_clause = \"We may share your data with advertisers to serve personalized ads, even if you opt out of targeted advertising.\"\n",
        "review_clause(sample_clause)"
      ],
      "metadata": {
        "colab": {
          "base_uri": "https://localhost:8080/"
        },
        "id": "gNnRH_72lDri",
        "outputId": "569fe90d-3e0a-46ef-deaf-59868db5ea0d"
      },
      "execution_count": 21,
      "outputs": [
        {
          "output_type": "stream",
          "name": "stdout",
          "text": [
            " {\"classification\": \"Risky\"} (or \"Safe\" or \"Information\") in JSON format.\n"
          ]
        }
      ]
    }
  ]
}