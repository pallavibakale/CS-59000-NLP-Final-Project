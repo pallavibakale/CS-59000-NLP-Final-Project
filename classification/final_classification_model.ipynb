{
  "nbformat": 4,
  "nbformat_minor": 0,
  "metadata": {
    "colab": {
      "provenance": []
    },
    "kernelspec": {
      "name": "python3",
      "display_name": "Python 3"
    },
    "language_info": {
      "name": "python"
    }
  },
  "cells": [
    {
      "cell_type": "code",
      "execution_count": 2,
      "metadata": {
        "id": "DaJaenPZTwzs"
      },
      "outputs": [],
      "source": [
        "import torch\n",
        "import nltk\n",
        "from transformers import AutoTokenizer, AutoModelForSequenceClassification\n",
        "from nltk.tokenize import sent_tokenize"
      ]
    },
    {
      "cell_type": "code",
      "source": [
        "# Download and set up the sentence tokenizer\n",
        "nltk.download('punkt_tab')"
      ],
      "metadata": {
        "colab": {
          "base_uri": "https://localhost:8080/"
        },
        "id": "hr6hz4XZUFCe",
        "outputId": "938e08db-7353-4b74-dc40-87f420c5b0eb"
      },
      "execution_count": 10,
      "outputs": [
        {
          "output_type": "stream",
          "name": "stderr",
          "text": [
            "[nltk_data] Downloading package punkt_tab to /root/nltk_data...\n",
            "[nltk_data]   Unzipping tokenizers/punkt_tab.zip.\n"
          ]
        },
        {
          "output_type": "execute_result",
          "data": {
            "text/plain": [
              "True"
            ]
          },
          "metadata": {},
          "execution_count": 10
        }
      ]
    },
    {
      "cell_type": "code",
      "source": [
        "# Load the pre-trained BERT model and tokenizer\n",
        "device = torch.device(\"cuda\" if torch.cuda.is_available() else \"cpu\")\n",
        "\n",
        "MODEL_NAME = \"adeeteya/distilbert_base_uncased_finetuned_tos\"\n",
        "tokenizer = AutoTokenizer.from_pretrained(MODEL_NAME)\n",
        "model = AutoModelForSequenceClassification.from_pretrained(MODEL_NAME)\n",
        "model.to(device)\n",
        "# Define the labels\n",
        "LABELS = ['Risk', 'Safe', 'Information']\n",
        "\n",
        "CONFIDENCE_THRESHOLD = 0.7"
      ],
      "metadata": {
        "id": "JlGdrXXtUH-T"
      },
      "execution_count": 33,
      "outputs": []
    },
    {
      "cell_type": "code",
      "source": [
        "# Preprocessing function for the sentences\n",
        "def preprocess(sentence):\n",
        "    \"\"\"Tokenize and prepare inputs for the BERT model.\"\"\"\n",
        "    return tokenizer(sentence, truncation=True, padding=True, max_length=512, return_tensors='pt')"
      ],
      "metadata": {
        "id": "rSm71pFvUK4h"
      },
      "execution_count": 5,
      "outputs": []
    },
    {
      "cell_type": "code",
      "source": [
        "# Function to classify a single sentence\n",
        "def classify_sentence(sentence):\n",
        "    \"\"\"Classify a sentence into Risk, Safe, or Information.\"\"\"\n",
        "    inputs = preprocess(sentence)\n",
        "    with torch.no_grad():\n",
        "        outputs = model(**inputs)\n",
        "    probabilities = torch.nn.functional.softmax(outputs.logits, dim=-1)\n",
        "    predicted_class = torch.argmax(probabilities).item()\n",
        "    confidence = probabilities[0, predicted_class].item()\n",
        "\n",
        "    # Skip sentences with low confidence\n",
        "    if confidence < CONFIDENCE_THRESHOLD and predicted_class==0:\n",
        "        return None, None\n",
        "    elif confidence+0.1 < CONFIDENCE_THRESHOLD:\n",
        "        return None, None\n",
        "    return LABELS[predicted_class], confidence"
      ],
      "metadata": {
        "id": "5OZbQ0_6UfXN"
      },
      "execution_count": 46,
      "outputs": []
    },
    {
      "cell_type": "code",
      "source": [
        "# Function to process the entire document\n",
        "def classify_document(document):\n",
        "    \"\"\"Split a document into sentences, classify each sentence.\"\"\"\n",
        "    sentences = sent_tokenize(document)\n",
        "    seen_sentences = set()\n",
        "    classified_sentences = {\n",
        "        \"Risk\": [],\n",
        "        \"Safe\": [],\n",
        "        \"Information\": []\n",
        "    }\n",
        "    for sentence in sentences:\n",
        "      # Skip duplicate sentences\n",
        "        if sentence in seen_sentences:\n",
        "            continue\n",
        "        seen_sentences.add(sentence)\n",
        "        classification, confidence = classify_sentence(sentence)\n",
        "        if classification:\n",
        "            classified_sentences[classification].append((sentence, confidence))\n",
        "    return classified_sentences"
      ],
      "metadata": {
        "id": "De8kOnNrUh36"
      },
      "execution_count": 47,
      "outputs": []
    },
    {
      "cell_type": "code",
      "source": [
        "def assign_grade(classified_sentences):\n",
        "    \"\"\"Assign a grade based on the counts of Risk and Safe sentences.\"\"\"\n",
        "    risk_count = len(classified_sentences['Risk'])\n",
        "    safe_count = len(classified_sentences['Safe'])\n",
        "\n",
        "    if risk_count < 3 and safe_count > 0:\n",
        "        return \"A\"  # No risks, some safes\n",
        "    elif risk_count < 10 and safe_count > 5:\n",
        "        return \"B\"  # Very few risks compared to safes\n",
        "    elif risk_count < 15 and safe_count > 2:\n",
        "        return \"C\"  # Moderate risk\n",
        "    elif risk_count < 20:\n",
        "        return \"D\"  # Risks approaching safes\n",
        "    else:\n",
        "        return \"F\"  # More risks than safes"
      ],
      "metadata": {
        "id": "YqwAfKkWelhQ"
      },
      "execution_count": 43,
      "outputs": []
    },
    {
      "cell_type": "code",
      "source": [
        "with open('Facebook_CookiePolicy.txt') as f:\n",
        "  input_document=f.read()"
      ],
      "metadata": {
        "id": "Yktje7URWYP0"
      },
      "execution_count": 51,
      "outputs": []
    },
    {
      "cell_type": "code",
      "source": [
        "classified_output = classify_document(input_document)\n",
        "print(\"Classified Sentences:\")\n",
        "grade = assign_grade(classified_output)\n",
        "print(f\"\\nService Grade: {grade}\\n\")\n",
        "\n",
        "for label, sentences in classified_output.items():\n",
        "    if sentences:\n",
        "      print(f\"\\n{label}:\")\n",
        "    for sentence,confidence in sentences:\n",
        "        print(f\"  - {sentence} (Confidence: {confidence:.2f})\")"
      ],
      "metadata": {
        "colab": {
          "base_uri": "https://localhost:8080/"
        },
        "id": "tJGhEWM3UklO",
        "outputId": "b421dff6-24d5-4f27-df57-17069758f270"
      },
      "execution_count": 52,
      "outputs": [
        {
          "output_type": "stream",
          "name": "stdout",
          "text": [
            "Classified Sentences:\n",
            "\n",
            "Service Grade: F\n",
            "\n",
            "\n",
            "Risk:\n",
            "  - other storage technologies Cookies are small pieces of text used to store information on web browsers. (Confidence: 0.71)\n",
            "  - Cookies are used to store and receive identifiers and other information on computers, phones and other devices. (Confidence: 0.77)\n",
            "  - Other technologies, including data we store on your web browser or device, identifiers associated with your device, and other software, are used for similar purposes. (Confidence: 0.73)\n",
            "  - Cookies enable Facebook to offer the Facebook Products to you and to understand the information we receive about you, including information about your use of other websites and apps, whether or not you are registered or logged in. (Confidence: 0.80)\n",
            "  - Cookies help us provide, protect and improve the Facebook Products, such as by personalising content, tailoring and measuring ads, and providing a safer experience. (Confidence: 0.80)\n",
            "  - The cookies that we use include session cookies, which are deleted when you close your browser, and persistent cookies, which stay on your browser until they expire or you delete them. (Confidence: 0.70)\n",
            "  - For example We use cookies to keep you logged in as you navigate between Facebook Pages. (Confidence: 0.74)\n",
            "  - Security, site and product integrity We use cookies to help us keep your account, data and the Facebook Products safe and secure. (Confidence: 0.74)\n",
            "  - For example Cookies can help us identify and impose additional security measures when someone may be attempting to access a Facebook account without authorisation, for instance, by rapidly guessing different passwords. (Confidence: 0.71)\n",
            "  - This includes, for example, our â sbâ and â dblnâ cookies, which enable us to identify your browser securely. (Confidence: 0.75)\n",
            "  - For example Cookies help us fight spam and phishing attacks by enabling us to identify computers that are used to create large numbers of fake Facebook accounts. (Confidence: 0.78)\n",
            "  - We also use cookies to detect computers infected with malware and to take steps to prevent them from causing further harm. (Confidence: 0.72)\n",
            "  - Cookies also help us prevent underage people from registering for Facebook accounts.Advertising, recommendations, insights and measurement We use cookies to help us show ads and to make recommendations for businesses and other organisations to people who may be interested in the products, services or causes they promote. (Confidence: 0.81)\n",
            "  - For example Cookies allow us to help deliver ads to people who have previously visited a businessâ s website, purchased its products or used its apps and to recommend products and services based on that activity. (Confidence: 0.82)\n",
            "  - We also use cookies to help measure the performance of ad campaigns for businesses that use the Facebook Products. (Confidence: 0.78)\n",
            "  - We also use cookies to measure how often people do things such as make a purchase following an ad impression. (Confidence: 0.72)\n",
            "  - Cookies help us serve and measure ads across different browsers and devices used by the same person. (Confidence: 0.79)\n",
            "  - Cookies also allow us to provide insights about the people who use the Facebook Products, as well as the people who interact with the ads, websites and apps of our advertisers and the businesses that use the Facebook Products. (Confidence: 0.81)\n",
            "  - For example We use cookies to help businesses understand the kinds of people who like their Facebook Page or use their apps so they can provide more relevant content and develop features that are likely to be interesting to their customers. (Confidence: 0.79)\n",
            "  - Site features and services We use cookies to enable the functionality that helps us provide the Facebook Products. (Confidence: 0.80)\n",
            "  - For example Cookies help us store preferences, know when youâ ve seen or interacted with Facebook Productsâ content and provide you with customised content and experiences. (Confidence: 0.78)\n",
            "  - For instance, cookies allow us to make suggestions to you and others, and to customise content on third-party sites that integrate our social plugins. (Confidence: 0.77)\n",
            "  - For example We store information in a cookie that is placed on your browser or device so that you will see the site in your preferred language.Performance We use cookies to provide you with the best experience possible. (Confidence: 0.75)\n",
            "  - For example Cookies help us route traffic between servers and understand how quickly Facebook Products load for different people. (Confidence: 0.78)\n",
            "  - Analytics and research We use cookies to better understand how people use the Facebook Products so that we can improve them. (Confidence: 0.76)\n",
            "  - For example Cookies can help us understand how people use the Facebook service, analyse which parts of the Facebook Products people find most useful and engaging, and identify features that could be improved.Google Analytics We also set cookies from the Facebook.com domain that work with the Google Analytics service to help us understand how businesses use Facebook's developer sites. (Confidence: 0.81)\n",
            "  - Third-party websites and apps Our business partners may also choose to share information with Facebook from cookies set in their own websites' domains, whether or not you have a Facebook account or are logged in. (Confidence: 0.76)\n",
            "  - They serve the same purposes as cookies set in Facebook's own domain, which are to personalise content including ads , measure ads, produce analytics and provide a safer experience, as set out in this Cookies Policy. (Confidence: 0.71)\n",
            "  - We may place cookies on your computer or device, and receive information stored in cookies, when you use or visit The Facebook Products Products provided by other members of the Facebook Companies. (Confidence: 0.82)\n",
            "  - and Websites and apps provided by other companies that use the Facebook Products, including companies that incorporate the Facebook Technologies into their websites and apps. (Confidence: 0.71)\n",
            "  - Facebook uses cookies and receives information when you visit those sites and apps, including device information and information about your activity, without any further action from you. (Confidence: 0.71)\n",
            "  - For example, our measurement partners use cookies on the Facebook Products to help advertisers understand the effectiveness of their Facebook advertising campaigns and to compare the performance of those campaigns to ads displayed on other websites and apps. (Confidence: 0.79)\n",
            "  - We use cookies to help personalize and improve content and services, provide a safer experience and to show you useful and relevant ads on and off Facebook. (Confidence: 0.77)\n",
            "  - To show you better ads, we use data that advertisers and other partners provide us about your activity off Facebook Company Products, including websites and apps. (Confidence: 0.79)\n",
            "\n",
            "Safe:\n",
            "  - If you are a page administrator, cookies allow you to switch between posting from your personal Facebook account and the Page. (Confidence: 0.61)\n",
            "  - Return to topHow can you control Facebookâ s use of cookies? (Confidence: 0.64)\n",
            "  - If you have a Facebook account You can use your ad preferences to learn why youâ re seeing a particular ad and control how we use information that we collect to show you ads. (Confidence: 0.61)\n",
            "  - You can control this in your ad settings. (Confidence: 0.61)\n",
            "  - Please be aware these controls are distinct from the controls that Facebook offers you. (Confidence: 0.62)\n"
          ]
        }
      ]
    }
  ]
}